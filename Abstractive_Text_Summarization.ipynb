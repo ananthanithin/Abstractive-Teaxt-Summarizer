{
 "cells": [
  {
   "cell_type": "code",
   "execution_count": 227,
   "metadata": {},
   "outputs": [],
   "source": [
    "from attention import AttentionLayer"
   ]
  },
  {
   "cell_type": "code",
   "execution_count": 2,
   "metadata": {},
   "outputs": [],
   "source": [
    "import pickle\n",
    "import numpy as np\n",
    "import pandas as pd \n",
    "import re\n",
    "from nltk.corpus import stopwords\n",
    "import nltk\n",
    "from bs4 import BeautifulSoup\n",
    "from keras.preprocessing.text import Tokenizer \n",
    "from keras.preprocessing.sequence import pad_sequences\n",
    "from nltk.corpus import stopwords\n",
    "from tensorflow.keras.layers import Input, LSTM, Embedding, Dense, Concatenate, TimeDistributed, Bidirectional\n",
    "from tensorflow.keras.models import Model\n",
    "from tensorflow.keras.callbacks import EarlyStopping\n",
    "import warnings\n",
    "pd.set_option(\"display.max_colwidth\", 200)\n",
    "warnings.filterwarnings(\"ignore\")"
   ]
  },
  {
   "cell_type": "code",
   "execution_count": 3,
   "metadata": {},
   "outputs": [],
   "source": [
    "data=pd.read_csv(\"Reviews.csv\",nrows=100000)"
   ]
  },
  {
   "cell_type": "code",
   "execution_count": 4,
   "metadata": {},
   "outputs": [],
   "source": [
    "data.drop_duplicates(subset=['Text'],inplace=True)#dropping duplicates\n",
    "data.dropna(axis=0,inplace=True)#dropping na"
   ]
  },
  {
   "cell_type": "code",
   "execution_count": 5,
   "metadata": {},
   "outputs": [
    {
     "name": "stdout",
     "output_type": "stream",
     "text": [
      "<class 'pandas.core.frame.DataFrame'>\n",
      "Int64Index: 88421 entries, 0 to 99999\n",
      "Data columns (total 10 columns):\n",
      " #   Column                  Non-Null Count  Dtype \n",
      "---  ------                  --------------  ----- \n",
      " 0   Id                      88421 non-null  int64 \n",
      " 1   ProductId               88421 non-null  object\n",
      " 2   UserId                  88421 non-null  object\n",
      " 3   ProfileName             88421 non-null  object\n",
      " 4   HelpfulnessNumerator    88421 non-null  int64 \n",
      " 5   HelpfulnessDenominator  88421 non-null  int64 \n",
      " 6   Score                   88421 non-null  int64 \n",
      " 7   Time                    88421 non-null  int64 \n",
      " 8   Summary                 88421 non-null  object\n",
      " 9   Text                    88421 non-null  object\n",
      "dtypes: int64(5), object(5)\n",
      "memory usage: 7.4+ MB\n"
     ]
    }
   ],
   "source": [
    "data.info()"
   ]
  },
  {
   "cell_type": "code",
   "execution_count": 6,
   "metadata": {},
   "outputs": [],
   "source": [
    "contraction_mapping = {\"ain't\": \"is not\", \"aren't\": \"are not\",\"can't\": \"cannot\", \"'cause\": \"because\", \"could've\": \"could have\", \"couldn't\": \"could not\",\n",
    "\n",
    "                           \"didn't\": \"did not\", \"doesn't\": \"does not\", \"don't\": \"do not\", \"hadn't\": \"had not\", \"hasn't\": \"has not\", \"haven't\": \"have not\",\n",
    "\n",
    "                           \"he'd\": \"he would\",\"he'll\": \"he will\", \"he's\": \"he is\", \"how'd\": \"how did\", \"how'd'y\": \"how do you\", \"how'll\": \"how will\", \"how's\": \"how is\",\n",
    "\n",
    "                           \"I'd\": \"I would\", \"I'd've\": \"I would have\", \"I'll\": \"I will\", \"I'll've\": \"I will have\",\"I'm\": \"I am\", \"I've\": \"I have\", \"i'd\": \"i would\",\n",
    "\n",
    "                           \"i'd've\": \"i would have\", \"i'll\": \"i will\",  \"i'll've\": \"i will have\",\"i'm\": \"i am\", \"i've\": \"i have\", \"isn't\": \"is not\", \"it'd\": \"it would\",\n",
    "\n",
    "                           \"it'd've\": \"it would have\", \"it'll\": \"it will\", \"it'll've\": \"it will have\",\"it's\": \"it is\", \"let's\": \"let us\", \"ma'am\": \"madam\",\n",
    "\n",
    "                           \"mayn't\": \"may not\", \"might've\": \"might have\",\"mightn't\": \"might not\",\"mightn't've\": \"might not have\", \"must've\": \"must have\",\n",
    "\n",
    "                           \"mustn't\": \"must not\", \"mustn't've\": \"must not have\", \"needn't\": \"need not\", \"needn't've\": \"need not have\",\"o'clock\": \"of the clock\",\n",
    "\n",
    "                           \"oughtn't\": \"ought not\", \"oughtn't've\": \"ought not have\", \"shan't\": \"shall not\", \"sha'n't\": \"shall not\", \"shan't've\": \"shall not have\",\n",
    "\n",
    "                           \"she'd\": \"she would\", \"she'd've\": \"she would have\", \"she'll\": \"she will\", \"she'll've\": \"she will have\", \"she's\": \"she is\",\n",
    "\n",
    "                           \"should've\": \"should have\", \"shouldn't\": \"should not\", \"shouldn't've\": \"should not have\", \"so've\": \"so have\",\"so's\": \"so as\",\n",
    "\n",
    "                           \"this's\": \"this is\",\"that'd\": \"that would\", \"that'd've\": \"that would have\", \"that's\": \"that is\", \"there'd\": \"there would\",\n",
    "\n",
    "                           \"there'd've\": \"there would have\", \"there's\": \"there is\", \"here's\": \"here is\",\"they'd\": \"they would\", \"they'd've\": \"they would have\",\n",
    "\n",
    "                           \"they'll\": \"they will\", \"they'll've\": \"they will have\", \"they're\": \"they are\", \"they've\": \"they have\", \"to've\": \"to have\",\n",
    "\n",
    "                           \"wasn't\": \"was not\", \"we'd\": \"we would\", \"we'd've\": \"we would have\", \"we'll\": \"we will\", \"we'll've\": \"we will have\", \"we're\": \"we are\",\n",
    "\n",
    "                           \"we've\": \"we have\", \"weren't\": \"were not\", \"what'll\": \"what will\", \"what'll've\": \"what will have\", \"what're\": \"what are\",\n",
    "\n",
    "                           \"what's\": \"what is\", \"what've\": \"what have\", \"when's\": \"when is\", \"when've\": \"when have\", \"where'd\": \"where did\", \"where's\": \"where is\",\n",
    "\n",
    "                           \"where've\": \"where have\", \"who'll\": \"who will\", \"who'll've\": \"who will have\", \"who's\": \"who is\", \"who've\": \"who have\",\n",
    "\n",
    "                           \"why's\": \"why is\", \"why've\": \"why have\", \"will've\": \"will have\", \"won't\": \"will not\", \"won't've\": \"will not have\",\n",
    "\n",
    "                           \"would've\": \"would have\", \"wouldn't\": \"would not\", \"wouldn't've\": \"would not have\", \"y'all\": \"you all\",\n",
    "\n",
    "                           \"y'all'd\": \"you all would\",\"y'all'd've\": \"you all would have\",\"y'all're\": \"you all are\",\"y'all've\": \"you all have\",\n",
    "\n",
    "                           \"you'd\": \"you would\", \"you'd've\": \"you would have\", \"you'll\": \"you will\", \"you'll've\": \"you will have\",\n",
    "\n",
    "                           \"you're\": \"you are\", \"you've\": \"you have\"}"
   ]
  },
  {
   "cell_type": "code",
   "execution_count": 7,
   "metadata": {},
   "outputs": [
    {
     "data": {
      "text/plain": [
       "0    I have bought several of the Vitality canned dog food products and have found them all to be of good quality. The product looks more like a stew than a processed meat and it smells better. My Labr...\n",
       "Name: Text, dtype: object"
      ]
     },
     "execution_count": 7,
     "metadata": {},
     "output_type": "execute_result"
    }
   ],
   "source": [
    "data['Text'][:1]"
   ]
  },
  {
   "cell_type": "code",
   "execution_count": 8,
   "metadata": {},
   "outputs": [],
   "source": [
    "stop_words = set(stopwords.words('english')) \n",
    "def text_cleaner(text,num):\n",
    "    newString = text.lower()\n",
    "    newString = BeautifulSoup(newString, \"lxml\").text\n",
    "    newString = re.sub(r'\\([^)]*\\)', '', newString)\n",
    "    newString = re.sub('\"','', newString)\n",
    "    newString = ' '.join([contraction_mapping[t] if t in contraction_mapping else t for t in newString.split(\" \")])    \n",
    "    newString = re.sub(r\"'s\\b\",\"\",newString)\n",
    "    newString = re.sub(\"[^a-zA-Z]\", \" \", newString) \n",
    "    newString = re.sub('[m]{2,}', 'mm', newString)\n",
    "    if(num==0):\n",
    "        tokens = [w for w in newString.split() if not w in stop_words]\n",
    "    else:\n",
    "        tokens=newString.split()\n",
    "    long_words=[]\n",
    "    for i in tokens:\n",
    "        if len(i)>1:                                                 #removing short word\n",
    "            long_words.append(i)   \n",
    "    return (\" \".join(long_words)).strip()"
   ]
  },
  {
   "cell_type": "code",
   "execution_count": 9,
   "metadata": {},
   "outputs": [],
   "source": [
    "#call the function\n",
    "cleaned_text = []\n",
    "for t in data['Text']:\n",
    "    cleaned_text.append(text_cleaner(t,0))"
   ]
  },
  {
   "cell_type": "code",
   "execution_count": 10,
   "metadata": {},
   "outputs": [
    {
     "data": {
      "text/plain": [
       "['bought several vitality canned dog food products found good quality product looks like stew processed meat smells better labrador finicky appreciates product better',\n",
       " 'product arrived labeled jumbo salted peanuts peanuts actually small sized unsalted sure error vendor intended represent product jumbo',\n",
       " 'confection around centuries light pillowy citrus gelatin nuts case filberts cut tiny squares liberally coated powdered sugar tiny mouthful heaven chewy flavorful highly recommend yummy treat familiar story lewis lion witch wardrobe treat seduces edmund selling brother sisters witch',\n",
       " 'looking secret ingredient robitussin believe found got addition root beer extract ordered made cherry soda flavor medicinal',\n",
       " 'great taffy great price wide assortment yummy taffy delivery quick taffy lover deal']"
      ]
     },
     "execution_count": 10,
     "metadata": {},
     "output_type": "execute_result"
    }
   ],
   "source": [
    "cleaned_text[:5]"
   ]
  },
  {
   "cell_type": "code",
   "execution_count": 11,
   "metadata": {},
   "outputs": [
    {
     "data": {
      "text/plain": [
       "0                            Good Quality Dog Food\n",
       "1                                Not as Advertised\n",
       "2                            \"Delight\" says it all\n",
       "3                                   Cough Medicine\n",
       "4                                      Great taffy\n",
       "5                                       Nice Taffy\n",
       "6    Great!  Just as good as the expensive brands!\n",
       "7                           Wonderful, tasty taffy\n",
       "8                                       Yay Barley\n",
       "9                                 Healthy Dog Food\n",
       "Name: Summary, dtype: object"
      ]
     },
     "execution_count": 11,
     "metadata": {},
     "output_type": "execute_result"
    }
   ],
   "source": [
    "data['Summary'][:10]"
   ]
  },
  {
   "cell_type": "code",
   "execution_count": 12,
   "metadata": {},
   "outputs": [],
   "source": [
    "#call the function\n",
    "cleaned_summary = []\n",
    "for t in data['Summary']:\n",
    "    cleaned_summary.append(text_cleaner(t,1))"
   ]
  },
  {
   "cell_type": "code",
   "execution_count": 13,
   "metadata": {},
   "outputs": [
    {
     "data": {
      "text/plain": [
       "['good quality dog food',\n",
       " 'not as advertised',\n",
       " 'delight says it all',\n",
       " 'cough medicine',\n",
       " 'great taffy',\n",
       " 'nice taffy',\n",
       " 'great just as good as the expensive brands',\n",
       " 'wonderful tasty taffy',\n",
       " 'yay barley',\n",
       " 'healthy dog food']"
      ]
     },
     "execution_count": 13,
     "metadata": {},
     "output_type": "execute_result"
    }
   ],
   "source": [
    "cleaned_summary[:10]"
   ]
  },
  {
   "cell_type": "code",
   "execution_count": 14,
   "metadata": {},
   "outputs": [],
   "source": [
    "data['cleaned_text']=cleaned_text\n",
    "data['cleaned_summary']=cleaned_summary"
   ]
  },
  {
   "cell_type": "code",
   "execution_count": 15,
   "metadata": {},
   "outputs": [],
   "source": [
    "data.replace('', np.nan, inplace=True)\n",
    "data.dropna(axis=0,inplace=True)"
   ]
  },
  {
   "cell_type": "code",
   "execution_count": 16,
   "metadata": {},
   "outputs": [
    {
     "data": {
      "image/png": "[encoded data removed]",
      "text/plain": [
       "<Figure size 432x288 with 2 Axes>"
      ]
     },
     "metadata": {
      "needs_background": "light"
     },
     "output_type": "display_data"
    }
   ],
   "source": [
    "import matplotlib.pyplot as plt\n",
    "\n",
    "text_word_count = []\n",
    "summary_word_count = []\n",
    "\n",
    "# populate the lists with sentence lengths\n",
    "for i in data['cleaned_text']:\n",
    "      text_word_count.append(len(i.split()))\n",
    "\n",
    "for i in data['cleaned_summary']:\n",
    "      summary_word_count.append(len(i.split()))\n",
    "\n",
    "length_df = pd.DataFrame({'text':text_word_count, 'summary':summary_word_count})\n",
    "\n",
    "length_df.hist(bins = 30)\n",
    "plt.show()"
   ]
  },
  {
   "cell_type": "code",
   "execution_count": 17,
   "metadata": {},
   "outputs": [
    {
     "name": "stdout",
     "output_type": "stream",
     "text": [
      "0.9424907471335922\n"
     ]
    }
   ],
   "source": [
    "cnt=0\n",
    "for i in data['cleaned_summary']:\n",
    "    if(len(i.split())<=8):\n",
    "        cnt=cnt+1\n",
    "print(cnt/len(data['cleaned_summary']))"
   ]
  },
  {
   "cell_type": "code",
   "execution_count": 18,
   "metadata": {},
   "outputs": [],
   "source": [
    "max_text_len=30\n",
    "max_summary_len=8"
   ]
  },
  {
   "cell_type": "code",
   "execution_count": 19,
   "metadata": {},
   "outputs": [],
   "source": [
    "cleaned_text =np.array(data['cleaned_text'])\n",
    "cleaned_summary=np.array(data['cleaned_summary'])\n",
    "\n",
    "short_text=[]\n",
    "short_summary=[]\n",
    "\n",
    "for i in range(len(cleaned_text)):\n",
    "    if(len(cleaned_summary[i].split())<=max_summary_len and len(cleaned_text[i].split())<=max_text_len):\n",
    "        short_text.append(cleaned_text[i])\n",
    "        short_summary.append(cleaned_summary[i])\n",
    "        \n",
    "df=pd.DataFrame({'text':short_text,'summary':short_summary})"
   ]
  },
  {
   "cell_type": "code",
   "execution_count": 52,
   "metadata": {},
   "outputs": [
    {
     "data": {
      "text/html": [
       "<div>\n",
       "<style scoped>\n",
       "    .dataframe tbody tr th:only-of-type {\n",
       "        vertical-align: middle;\n",
       "    }\n",
       "\n",
       "    .dataframe tbody tr th {\n",
       "        vertical-align: top;\n",
       "    }\n",
       "\n",
       "    .dataframe thead th {\n",
       "        text-align: right;\n",
       "    }\n",
       "</style>\n",
       "<table border=\"1\" class=\"dataframe\">\n",
       "  <thead>\n",
       "    <tr style=\"text-align: right;\">\n",
       "      <th></th>\n",
       "      <th>text</th>\n",
       "      <th>summary</th>\n",
       "    </tr>\n",
       "  </thead>\n",
       "  <tbody>\n",
       "    <tr>\n",
       "      <th>0</th>\n",
       "      <td>bought several vitality canned dog food products found good quality product looks like stew processed meat smells better labrador finicky appreciates product better</td>\n",
       "      <td>sostok good quality dog food eostok</td>\n",
       "    </tr>\n",
       "    <tr>\n",
       "      <th>1</th>\n",
       "      <td>product arrived labeled jumbo salted peanuts peanuts actually small sized unsalted sure error vendor intended represent product jumbo</td>\n",
       "      <td>sostok not as advertised eostok</td>\n",
       "    </tr>\n",
       "    <tr>\n",
       "      <th>2</th>\n",
       "      <td>looking secret ingredient robitussin believe found got addition root beer extract ordered made cherry soda flavor medicinal</td>\n",
       "      <td>sostok cough medicine eostok</td>\n",
       "    </tr>\n",
       "    <tr>\n",
       "      <th>3</th>\n",
       "      <td>great taffy great price wide assortment yummy taffy delivery quick taffy lover deal</td>\n",
       "      <td>sostok great taffy eostok</td>\n",
       "    </tr>\n",
       "    <tr>\n",
       "      <th>4</th>\n",
       "      <td>saltwater taffy great flavors soft chewy candy individually wrapped well none candies stuck together happen expensive version fralinger would highly recommend candy served beach themed party every...</td>\n",
       "      <td>sostok great just as good as the expensive brands eostok</td>\n",
       "    </tr>\n",
       "    <tr>\n",
       "      <th>...</th>\n",
       "      <td>...</td>\n",
       "      <td>...</td>\n",
       "    </tr>\n",
       "    <tr>\n",
       "      <th>47165</th>\n",
       "      <td>stuff awesome best flavor boil water drain water add spice packet add hot water</td>\n",
       "      <td>sostok great stuff eostok</td>\n",
       "    </tr>\n",
       "    <tr>\n",
       "      <th>47166</th>\n",
       "      <td>love noodle little spicy wife perfct</td>\n",
       "      <td>sostok good stuff eostok</td>\n",
       "    </tr>\n",
       "    <tr>\n",
       "      <th>47167</th>\n",
       "      <td>love buy another box done last one</td>\n",
       "      <td>sostok yummy eostok</td>\n",
       "    </tr>\n",
       "    <tr>\n",
       "      <th>47168</th>\n",
       "      <td>favorite brand korean ramen spicy used eating spicy food make sure use spice pack add egg soup makes great snack</td>\n",
       "      <td>sostok great ramen eostok</td>\n",
       "    </tr>\n",
       "    <tr>\n",
       "      <th>47169</th>\n",
       "      <td>like noodles although say spicy somewhat understatement one else family tolerates spicy well seeing looking forward extra little something palate disappointed completely honest usually drain liqui...</td>\n",
       "      <td>sostok spicy eostok</td>\n",
       "    </tr>\n",
       "  </tbody>\n",
       "</table>\n",
       "<p>47170 rows × 2 columns</p>\n",
       "</div>"
      ],
      "text/plain": [
       "                                                                                                                                                                                                          text  \\\n",
       "0                                         bought several vitality canned dog food products found good quality product looks like stew processed meat smells better labrador finicky appreciates product better   \n",
       "1                                                                        product arrived labeled jumbo salted peanuts peanuts actually small sized unsalted sure error vendor intended represent product jumbo   \n",
       "2                                                                                  looking secret ingredient robitussin believe found got addition root beer extract ordered made cherry soda flavor medicinal   \n",
       "3                                                                                                                          great taffy great price wide assortment yummy taffy delivery quick taffy lover deal   \n",
       "4      saltwater taffy great flavors soft chewy candy individually wrapped well none candies stuck together happen expensive version fralinger would highly recommend candy served beach themed party every...   \n",
       "...                                                                                                                                                                                                        ...   \n",
       "47165                                                                                                                          stuff awesome best flavor boil water drain water add spice packet add hot water   \n",
       "47166                                                                                                                                                                     love noodle little spicy wife perfct   \n",
       "47167                                                                                                                                                                       love buy another box done last one   \n",
       "47168                                                                                         favorite brand korean ramen spicy used eating spicy food make sure use spice pack add egg soup makes great snack   \n",
       "47169  like noodles although say spicy somewhat understatement one else family tolerates spicy well seeing looking forward extra little something palate disappointed completely honest usually drain liqui...   \n",
       "\n",
       "                                                        summary  \n",
       "0                           sostok good quality dog food eostok  \n",
       "1                               sostok not as advertised eostok  \n",
       "2                                  sostok cough medicine eostok  \n",
       "3                                     sostok great taffy eostok  \n",
       "4      sostok great just as good as the expensive brands eostok  \n",
       "...                                                         ...  \n",
       "47165                                 sostok great stuff eostok  \n",
       "47166                                  sostok good stuff eostok  \n",
       "47167                                       sostok yummy eostok  \n",
       "47168                                 sostok great ramen eostok  \n",
       "47169                                       sostok spicy eostok  \n",
       "\n",
       "[47170 rows x 2 columns]"
      ]
     },
     "execution_count": 52,
     "metadata": {},
     "output_type": "execute_result"
    }
   ],
   "source": [
    "df"
   ]
  },
  {
   "cell_type": "code",
   "execution_count": 20,
   "metadata": {},
   "outputs": [],
   "source": [
    "df['summary'] = df['summary'].apply(lambda x : 'sostok '+ x + ' eostok')"
   ]
  },
  {
   "cell_type": "code",
   "execution_count": 21,
   "metadata": {},
   "outputs": [],
   "source": [
    "from sklearn.model_selection import train_test_split\n",
    "x_tr,x_val,y_tr,y_val=train_test_split(np.array(df['text']),np.array(df['summary']),test_size=0.1,random_state=0,shuffle=True)"
   ]
  },
  {
   "cell_type": "code",
   "execution_count": 22,
   "metadata": {},
   "outputs": [
    {
     "data": {
      "text/plain": [
       "array(['gave caffeine overdose shakes racing heart anxiety attack plus tastes unbelievably bad stick coffee tea soda thanks',\n",
       "       'got great course good belgian chocolates better',\n",
       "       'one best flavored coffees tried usually like flavored coffees one great serve company love',\n",
       "       ...,\n",
       "       'like large variety herbal teas one flavor omega strongly overwhelms tastes pomegranate blubbery probably tea good distinct fishy taste',\n",
       "       'tasty fast cook convenient drawback little rich calories',\n",
       "       'hello tried different foods dog one tolerates best year old border collie lab mix giving food quite time loves thank'],\n",
       "      dtype=object)"
      ]
     },
     "execution_count": 22,
     "metadata": {},
     "output_type": "execute_result"
    }
   ],
   "source": [
    "x_tr"
   ]
  },
  {
   "cell_type": "code",
   "execution_count": 23,
   "metadata": {},
   "outputs": [
    {
     "data": {
      "text/plain": [
       "'\"fit_on_texts  :  Updates internal vocabulary based on a list of texts. \\nThis method creates the vocabulary index based on word frequency. \\nSo if you give it something like, \"The cat sat on the mat.\" It will create a dictionary s.t. word_index[\"the\"] = 1; \\nword_index[\"cat\"] = 2 it is word -> index dictionary so every word gets a unique integer value. 0 is reserved for padding. \\nSo lower integer means more frequent word (often the first few are stop words because they appear a lot).'"
      ]
     },
     "execution_count": 23,
     "metadata": {},
     "output_type": "execute_result"
    }
   ],
   "source": [
    "#prepare a tokenizer for reviews on training data\n",
    "\n",
    "from keras.preprocessing.text import Tokenizer \n",
    "from keras.preprocessing.sequence import pad_sequences\n",
    "\n",
    "#prepare a tokenizer for reviews on training data\n",
    "x_tokenizer = Tokenizer() \n",
    "x_tokenizer.fit_on_texts(list(x_tr))\n",
    "\"\"\"\"fit_on_texts  :  Updates internal vocabulary based on a list of texts. \n",
    "This method creates the vocabulary index based on word frequency. \n",
    "So if you give it something like, \"The cat sat on the mat.\" It will create a dictionary s.t. word_index[\"the\"] = 1; \n",
    "word_index[\"cat\"] = 2 it is word -> index dictionary so every word gets a unique integer value. 0 is reserved for padding. \n",
    "So lower integer means more frequent word (often the first few are stop words because they appear a lot).\"\"\"\n",
    "\n"
   ]
  },
  {
   "cell_type": "code",
   "execution_count": 24,
   "metadata": {},
   "outputs": [
    {
     "name": "stdout",
     "output_type": "stream",
     "text": [
      "% of rare words in vocabulary: 66.12339930151339\n",
      "Total Coverage of rare words: 2.953684513790566\n"
     ]
    }
   ],
   "source": [
    "thresh=4\n",
    "\n",
    "cnt=0\n",
    "tot_cnt=0\n",
    "freq=0\n",
    "tot_freq=0\n",
    "\n",
    "for key,value in x_tokenizer.word_counts.items():\n",
    "    tot_cnt=tot_cnt+1\n",
    "    tot_freq=tot_freq+value\n",
    "    if(value<thresh):\n",
    "        cnt=cnt+1\n",
    "        freq=freq+value\n",
    "    \n",
    "print(\"% of rare words in vocabulary:\",(cnt/tot_cnt)*100)\n",
    "print(\"Total Coverage of rare words:\",(freq/tot_freq)*100)"
   ]
  },
  {
   "cell_type": "code",
   "execution_count": 25,
   "metadata": {},
   "outputs": [],
   "source": [
    "\"\"\"\"texts_to_sequences :  Transforms each text in texts to a sequence of integers. \n",
    "So it basically takes each word in the text and replaces it with its corresponding integer value from the word_index dictionary. \n",
    "Nothing more, nothing less, certainly no magic involved. \"\"\"\n",
    "#convert text sequences into integer sequences\n",
    "#prepare a tokenizer for reviews on training data\n",
    "x_tokenizer = Tokenizer(num_words=tot_cnt-cnt) \n",
    "x_tokenizer.fit_on_texts(list(x_tr))\n",
    "\n",
    "#convert text sequences into integer sequences\n",
    "x_tr_seq    =   x_tokenizer.texts_to_sequences(x_tr) \n",
    "x_val_seq   =   x_tokenizer.texts_to_sequences(x_val)\n",
    "\n",
    "#padding zero upto maximum length\n",
    "x_tr    =   pad_sequences(x_tr_seq,  maxlen=max_text_len, padding='post')\n",
    "x_val   =   pad_sequences(x_val_seq, maxlen=max_text_len, padding='post')\n",
    "\n",
    "#size of vocabulary ( +1 for padding token)\n",
    "x_voc   =  x_tokenizer.num_words + 1"
   ]
  },
  {
   "cell_type": "code",
   "execution_count": 316,
   "metadata": {},
   "outputs": [],
   "source": [
    "def tokenize_text(i_p=\n",
    "['enjoy coffee office split right middle loving think worth try order regularly']):\n",
    "    my_tokenizer = x_tokenizer\n",
    "    text_seq    =   my_tokenizer.texts_to_sequences(i_p) \n",
    "    t    =   pad_sequences(text_seq,  maxlen=max_text_len, padding='post')\n",
    "    return t"
   ]
  },
  {
   "cell_type": "code",
   "execution_count": 26,
   "metadata": {},
   "outputs": [],
   "source": [
    "#prepare a tokenizer for reviews on training data\n",
    "y_tokenizer = Tokenizer()   \n",
    "y_tokenizer.fit_on_texts(list(y_tr))"
   ]
  },
  {
   "cell_type": "code",
   "execution_count": 27,
   "metadata": {},
   "outputs": [
    {
     "name": "stdout",
     "output_type": "stream",
     "text": [
      "% of rare words in vocabulary: 78.12740675541863\n",
      "Total Coverage of rare words: 5.3921899389571895\n"
     ]
    }
   ],
   "source": [
    "thresh=6\n",
    "\n",
    "cnt=0\n",
    "tot_cnt=0\n",
    "freq=0\n",
    "tot_freq=0\n",
    "\n",
    "for key,value in y_tokenizer.word_counts.items():\n",
    "    tot_cnt=tot_cnt+1\n",
    "    tot_freq=tot_freq+value\n",
    "    if(value<thresh):\n",
    "        cnt=cnt+1\n",
    "        freq=freq+value\n",
    "    \n",
    "print(\"% of rare words in vocabulary:\",(cnt/tot_cnt)*100)\n",
    "print(\"Total Coverage of rare words:\",(freq/tot_freq)*100)"
   ]
  },
  {
   "cell_type": "code",
   "execution_count": 28,
   "metadata": {},
   "outputs": [],
   "source": [
    "#prepare a tokenizer for reviews on training data\n",
    "y_tokenizer = Tokenizer(num_words=tot_cnt-cnt) \n",
    "y_tokenizer.fit_on_texts(list(y_tr))\n",
    "\n",
    "#convert text sequences into integer sequences\n",
    "y_tr_seq    =   y_tokenizer.texts_to_sequences(y_tr) \n",
    "y_val_seq   =   y_tokenizer.texts_to_sequences(y_val) \n",
    "\n",
    "#padding zero upto maximum length\n",
    "y_tr    =   pad_sequences(y_tr_seq, maxlen=max_summary_len, padding='post')\n",
    "y_val   =   pad_sequences(y_val_seq, maxlen=max_summary_len, padding='post')\n",
    "\n",
    "#size of vocabulary\n",
    "y_voc  =   y_tokenizer.num_words +1"
   ]
  },
  {
   "cell_type": "code",
   "execution_count": 29,
   "metadata": {},
   "outputs": [
    {
     "data": {
      "text/plain": [
       "(42453, 42453)"
      ]
     },
     "execution_count": 29,
     "metadata": {},
     "output_type": "execute_result"
    }
   ],
   "source": [
    "y_tokenizer.word_counts['sostok'],len(y_tr)"
   ]
  },
  {
   "cell_type": "code",
   "execution_count": 30,
   "metadata": {},
   "outputs": [],
   "source": [
    "ind=[]\n",
    "for i in range(len(y_tr)):\n",
    "    cnt=0\n",
    "    for j in y_tr[i]:\n",
    "        if j!=0:\n",
    "            cnt=cnt+1\n",
    "    if(cnt==2):\n",
    "        ind.append(i)\n",
    "\n",
    "y_tr=np.delete(y_tr,ind, axis=0)\n",
    "x_tr=np.delete(x_tr,ind, axis=0)"
   ]
  },
  {
   "cell_type": "code",
   "execution_count": 31,
   "metadata": {},
   "outputs": [],
   "source": [
    "ind=[]\n",
    "for i in range(len(y_val)):\n",
    "    cnt=0\n",
    "    for j in y_val[i]:\n",
    "        if j!=0:\n",
    "            cnt=cnt+1\n",
    "    if(cnt==2):\n",
    "        ind.append(i)\n",
    "\n",
    "y_val=np.delete(y_val,ind, axis=0)\n",
    "x_val=np.delete(x_val,ind, axis=0)"
   ]
  },
  {
   "cell_type": "code",
   "execution_count": 32,
   "metadata": {},
   "outputs": [],
   "source": [
    "from sklearn.pipeline import Pipeline"
   ]
  },
  {
   "cell_type": "code",
   "execution_count": 33,
   "metadata": {},
   "outputs": [
    {
     "data": {
      "text/plain": [
       "array([ 299,  576, 1490, 1491, 6123, 3967,  322,   40, 4524,  116,  530,\n",
       "          7,   10,  429,  220,    0,    0,    0,    0,    0,    0,    0,\n",
       "          0,    0,    0,    0,    0,    0,    0,    0], dtype=int32)"
      ]
     },
     "execution_count": 33,
     "metadata": {},
     "output_type": "execute_result"
    }
   ],
   "source": [
    "x_tr[0]"
   ]
  },
  {
   "cell_type": "code",
   "execution_count": 34,
   "metadata": {},
   "outputs": [
    {
     "name": "stdout",
     "output_type": "stream",
     "text": [
      "Model: \"model\"\n",
      "__________________________________________________________________________________________________\n",
      "Layer (type)                    Output Shape         Param #     Connected to                     \n",
      "==================================================================================================\n",
      "input_1 (InputLayer)            [(None, 30)]         0                                            \n",
      "__________________________________________________________________________________________________\n",
      "embedding (Embedding)           (None, 30, 100)      844000      input_1[0][0]                    \n",
      "__________________________________________________________________________________________________\n",
      "bidirectional (Bidirectional)   [(None, 30, 600), (N 962400      embedding[0][0]                  \n",
      "__________________________________________________________________________________________________\n",
      "bidirectional_1 (Bidirectional) [(None, 30, 600), (N 2162400     bidirectional[0][0]              \n",
      "__________________________________________________________________________________________________\n",
      "input_2 (InputLayer)            [(None, None)]       0                                            \n",
      "__________________________________________________________________________________________________\n",
      "bidirectional_2 (Bidirectional) [(None, 30, 600), (N 2162400     bidirectional_1[0][0]            \n",
      "__________________________________________________________________________________________________\n",
      "embedding_1 (Embedding)         (None, None, 100)    198900      input_2[0][0]                    \n",
      "__________________________________________________________________________________________________\n",
      "concatenate (Concatenate)       (None, 600)          0           bidirectional_2[0][1]            \n",
      "                                                                 bidirectional_2[0][3]            \n",
      "__________________________________________________________________________________________________\n",
      "concatenate_1 (Concatenate)     (None, 600)          0           bidirectional_2[0][2]            \n",
      "                                                                 bidirectional_2[0][4]            \n",
      "__________________________________________________________________________________________________\n",
      "lstm_3 (LSTM)                   [(None, None, 600),  1682400     embedding_1[0][0]                \n",
      "                                                                 concatenate[0][0]                \n",
      "                                                                 concatenate_1[0][0]              \n",
      "__________________________________________________________________________________________________\n",
      "attention_layer (AttentionLayer ((None, None, 600),  720600      bidirectional_2[0][0]            \n",
      "                                                                 lstm_3[0][0]                     \n",
      "__________________________________________________________________________________________________\n",
      "concat_layer (Concatenate)      (None, None, 1200)   0           lstm_3[0][0]                     \n",
      "                                                                 attention_layer[0][0]            \n",
      "__________________________________________________________________________________________________\n",
      "time_distributed (TimeDistribut (None, None, 1989)   2388789     concat_layer[0][0]               \n",
      "==================================================================================================\n",
      "Total params: 11,121,889\n",
      "Trainable params: 11,121,889\n",
      "Non-trainable params: 0\n",
      "__________________________________________________________________________________________________\n"
     ]
    }
   ],
   "source": [
    "from keras import backend as K \n",
    "K.clear_session()\n",
    "\n",
    "latent_dim = 300\n",
    "embedding_dim=100\n",
    "\n",
    "# Encoder\n",
    "encoder_inputs = Input(shape=(max_text_len,))\n",
    "\n",
    "#embedding layer\n",
    "enc_emb =  Embedding(x_voc, embedding_dim,trainable=True,input_length =max_text_len)(encoder_inputs)\n",
    "\n",
    "#encoder lstm 1\n",
    "encoder_lstm1 = Bidirectional(LSTM(latent_dim,return_sequences=True,return_state=True,dropout=0.4,recurrent_dropout=0.4))\n",
    "encoder_output1, forward_state_h1, forward_state_c1, backward_state_h1, backward_state_c1  = encoder_lstm1(enc_emb)\n",
    "\n",
    "#encoder lstm 2\n",
    "encoder_lstm2 = Bidirectional(LSTM(latent_dim,return_sequences=True,return_state=True,dropout=0.4,recurrent_dropout=0.4))\n",
    "encoder_output2, forward_state_h2, forward_state_c2 , backward_state_h2, backward_state_c2 = encoder_lstm2(encoder_output1)\n",
    "\n",
    "#encoder lstm 3\n",
    "encoder_lstm3=Bidirectional(LSTM(latent_dim, return_state=True, return_sequences=True,dropout=0.4,recurrent_dropout=0.4))\n",
    "encoder_outputs, forward_state_h3, forward_state_c3,backward_state_h3, backward_state_c3= encoder_lstm3(encoder_output2)\n",
    "encoder_states_o = [forward_state_h3, forward_state_c3, backward_state_h3, backward_state_c3]\n",
    "state_h3 = Concatenate()([forward_state_h3, backward_state_h3])\n",
    "state_c3 = Concatenate()([forward_state_c3, backward_state_c3])\n",
    "\n",
    "# Set up the decoder, using `encoder_states` as initial state.\n",
    "decoder_inputs = Input(shape=(None,))\n",
    "\n",
    "#embedding layer\n",
    "dec_emb_layer = Embedding(y_voc, embedding_dim,trainable=True)\n",
    "dec_emb = dec_emb_layer(decoder_inputs)\n",
    "\n",
    "decoder_bi_lstm = LSTM(latent_dim*2, return_sequences=True, return_state=True,dropout=0.4,recurrent_dropout=0.2)\n",
    "#decoder_outputs,decoder_fwd_state, decoder_back_state = decoder_lstm(dec_emb,initial_state=[state_h, state_c])\n",
    "decoder_outputs, decoder_fwd_state, decoder_back_state = decoder_bi_lstm(dec_emb,initial_state=[state_h3, state_c3])\n",
    "#state_dec_h = Concatenate()([decoder_fwd_state_h1, decoder_back_state_h1])\n",
    "#state_dec_c = Concatenate()([decoder_fwd_state_c1, decoder_back_state_c1])\n",
    "#decoder_states = [decoder_fwd_state_h1, decoder_fwd_state_c1, decoder_back_state_h1, decoder_back_state_c1]\n",
    "\n",
    "# Attention layer\n",
    "attn_layer = AttentionLayer(name='attention_layer')\n",
    "attn_out, attn_states = attn_layer([encoder_outputs, decoder_outputs])\n",
    "\n",
    "# Concat attention input and decoder LSTM output\n",
    "decoder_concat_input = Concatenate(axis=-1, name='concat_layer')([decoder_outputs, attn_out])\n",
    "\n",
    "#dense layer\n",
    "decoder_dense =  TimeDistributed(Dense(y_voc, activation='softmax'))\n",
    "decoder_outputs = decoder_dense(decoder_concat_input)\n",
    "\n",
    "# Define the model \n",
    "model = Model([encoder_inputs, decoder_inputs], decoder_outputs)\n",
    "\n",
    "model.summary()"
   ]
  },
  {
   "cell_type": "code",
   "execution_count": 35,
   "metadata": {},
   "outputs": [],
   "source": [
    "from tensorflow.keras import optimizers\n",
    "from tensorflow.keras.models import Sequential\n",
    "from tensorflow.keras.layers import Flatten, Dense, Conv2D, MaxPooling2D, GlobalMaxPool2D\n",
    "from tensorflow.keras.layers import TimeDistributed, LSTM, Bidirectional\n",
    "from tensorflow.keras.layers import Dropout, BatchNormalization\n",
    "from tensorflow.keras.callbacks import Callback, EarlyStopping, ReduceLROnPlateau\n",
    "\n",
    "lr_scheduler = ReduceLROnPlateau(\n",
    "    monitor='val_accuracy',\n",
    "    factor=0.8,\n",
    "    patience=7,\n",
    "    min_lr=1e-7,\n",
    "    verbose=1,\n",
    ")\n"
   ]
  },
  {
   "cell_type": "code",
   "execution_count": 36,
   "metadata": {},
   "outputs": [],
   "source": [
    "model.compile(optimizer='rmsprop', loss='sparse_categorical_crossentropy',metrics = [\"accuracy\"])"
   ]
  },
  {
   "cell_type": "code",
   "execution_count": 37,
   "metadata": {},
   "outputs": [
    {
     "data": {
      "text/plain": [
       "<KerasTensor: shape=(None, None, 1989) dtype=float32 (created by layer 'time_distributed')>"
      ]
     },
     "execution_count": 37,
     "metadata": {},
     "output_type": "execute_result"
    }
   ],
   "source": [
    "decoder_outputs"
   ]
  },
  {
   "cell_type": "code",
   "execution_count": 38,
   "metadata": {},
   "outputs": [],
   "source": [
    "es = EarlyStopping(monitor='val_loss', mode='min', verbose=1,patience=2)"
   ]
  },
  {
   "cell_type": "code",
   "execution_count": 40,
   "metadata": {},
   "outputs": [
    {
     "name": "stdout",
     "output_type": "stream",
     "text": [
      "Epoch 1/2\n",
      "324/324 [==============================] - 1111s 3s/step - loss: 2.2503 - accuracy: 0.6230 - val_loss: 2.2938 - val_accuracy: 0.6143\n",
      "Epoch 2/2\n",
      "324/324 [==============================] - 1333s 4s/step - loss: 2.1383 - accuracy: 0.6330 - val_loss: 2.2139 - val_accuracy: 0.6302\n"
     ]
    }
   ],
   "source": [
    "history=model.fit([x_tr,y_tr[:,:-1]], y_tr.reshape(y_tr.shape[0],y_tr.shape[1], 1)[:,1:] ,\n",
    "                  epochs=2,\n",
    "                  callbacks=[es,lr_scheduler],\n",
    "                  batch_size=128, \n",
    "                  validation_data=([x_val,y_val[:,:-1]], \n",
    "                    y_val.reshape(y_val.shape[0],y_val.shape[1], 1)[:,1:]))"
   ]
  },
  {
   "cell_type": "code",
   "execution_count": 41,
   "metadata": {},
   "outputs": [
    {
     "data": {
      "image/png": "[encoded data removed]",
      "text/plain": [
       "<Figure size 432x288 with 1 Axes>"
      ]
     },
     "metadata": {
      "needs_background": "light"
     },
     "output_type": "display_data"
    }
   ],
   "source": [
    "from matplotlib import pyplot\n",
    "pyplot.plot(history.history['loss'], label='train')\n",
    "pyplot.plot(history.history['val_loss'], label='test')\n",
    "pyplot.legend()\n",
    "pyplot.show()"
   ]
  },
  {
   "cell_type": "code",
   "execution_count": 42,
   "metadata": {},
   "outputs": [
    {
     "data": {
      "text/plain": [
       "array([[ 299,  576, 1490, ...,    0,    0,    0],\n",
       "       [  62,    1,  639, ...,    0,    0,    0],\n",
       "       [   9,   12,  237, ...,    0,    0,    0],\n",
       "       ...,\n",
       "       [   3,  282,  236, ...,    0,    0,    0],\n",
       "       [  68,  160,  412, ...,    0,    0,    0],\n",
       "       [5248,   24,  122, ...,    0,    0,    0]], dtype=int32)"
      ]
     },
     "execution_count": 42,
     "metadata": {},
     "output_type": "execute_result"
    }
   ],
   "source": [
    "x_tr"
   ]
  },
  {
   "cell_type": "code",
   "execution_count": 43,
   "metadata": {},
   "outputs": [],
   "source": [
    "reverse_target_word_index=y_tokenizer.index_word\n",
    "reverse_source_word_index=x_tokenizer.index_word\n",
    "target_word_index=y_tokenizer.word_index"
   ]
  },
  {
   "cell_type": "code",
   "execution_count": 44,
   "metadata": {},
   "outputs": [
    {
     "data": {
      "text/plain": [
       "array([[ 299,  576, 1490, ...,    0,    0,    0],\n",
       "       [  62,    1,  639, ...,    0,    0,    0],\n",
       "       [   9,   12,  237, ...,    0,    0,    0],\n",
       "       ...,\n",
       "       [   3,  282,  236, ...,    0,    0,    0],\n",
       "       [  68,  160,  412, ...,    0,    0,    0],\n",
       "       [5248,   24,  122, ...,    0,    0,    0]], dtype=int32)"
      ]
     },
     "execution_count": 44,
     "metadata": {},
     "output_type": "execute_result"
    }
   ],
   "source": [
    "x_tr"
   ]
  },
  {
   "cell_type": "code",
   "execution_count": 45,
   "metadata": {},
   "outputs": [],
   "source": [
    "# Encode the input sequence to get the feature vector\n",
    "encoder_model = Model(inputs=encoder_inputs,outputs=[encoder_outputs, state_h3, state_c3])\n",
    "\n",
    "# Decoder setup\n",
    "# Below tensors will hold the states of the previous time step\n",
    "decoder_state_input_h = Input(shape=(latent_dim*2,))\n",
    "decoder_state_input_c = Input(shape=(latent_dim*2,))\n",
    "decoder_hidden_state_input = Input(shape=(max_text_len,latent_dim*2))\n",
    "\n",
    "#decoder_inputs1 = [decoder_hidden_state_input,decoder_state_input_h1, decoder_state_input_c1,decoder_state_input_h2, decoder_state_input_c2]\n",
    "# Get the embeddings of the decoder sequence\n",
    "dec_emb2= dec_emb_layer(decoder_inputs) \n",
    "# To predict the next word in the sequence, set the initial states to the states from the previous time step\n",
    "decoder_outputs2, state_h2, state_c2 = decoder_bi_lstm(dec_emb2, initial_state=[decoder_state_input_h, decoder_state_input_c])\n",
    "#decoder_states2 = [decoder_fwd_state_h2, decoder_fwd_state_c2, decoder_back_state_h2, decoder_back_state_c2]\n",
    "\n",
    "#attention inference\n",
    "attn_out_inf, attn_states_inf = attn_layer([decoder_hidden_state_input, decoder_outputs2])\n",
    "decoder_inf_concat = Concatenate(axis=-1, name='concat')([decoder_outputs2, attn_out_inf])\n",
    "\n",
    "# A dense softmax layer to generate prob dist. over the target vocabulary\n",
    "decoder_outputs2 = decoder_dense(decoder_inf_concat) \n",
    "\n",
    "# Final decoder model\n",
    "decoder_model = Model([decoder_inputs] + [decoder_hidden_state_input,decoder_state_input_h, decoder_state_input_c],[decoder_outputs2] + [state_h2, state_c2])\n"
   ]
  },
  {
   "cell_type": "code",
   "execution_count": 324,
   "metadata": {},
   "outputs": [],
   "source": [
    "def decode_sequence(input_seq=np.array([[  99,    7,  706, 1924,   80, 1236, 1847,   83,  127,   34,   35,\n",
    "        1195,    0,    0,    0,    0,    0,    0,    0,    0,    0,    0,\n",
    "           0,    0,    0,    0,    0,    0,    0,    0]])):\n",
    "    # Encode the input as state vectors.\n",
    "    e_out, e_h, e_c = encoder_model.predict(input_seq)\n",
    "    \n",
    "    # Generate empty target sequence of length 1.\n",
    "    target_seq = np.zeros((1,1))\n",
    "    \n",
    "    # Populate the first word of target sequence with the start word.\n",
    "    target_seq[0, 0] = target_word_index['sostok']\n",
    "\n",
    "    stop_condition = False\n",
    "    decoded_sentence = ''\n",
    "    while not stop_condition:\n",
    "      \n",
    "        output_tokens, h, c = decoder_model.predict([target_seq] + [e_out, e_h, e_c])\n",
    "\n",
    "        # Sample a token\n",
    "        sampled_token_index = np.argmax(output_tokens[0, -1, :])\n",
    "        sampled_token = reverse_target_word_index[sampled_token_index]\n",
    "        \n",
    "        if(sampled_token!='eostok'):\n",
    "            decoded_sentence += ' '+sampled_token\n",
    "\n",
    "        # Exit condition: either hit max length or find stop word.\n",
    "        if (sampled_token == 'eostok'  or len(decoded_sentence.split()) >= (max_summary_len-1)):\n",
    "            stop_condition = True\n",
    "\n",
    "        # Update the target sequence (of length 1).\n",
    "        target_seq = np.zeros((1,1))\n",
    "        target_seq[0, 0] = sampled_token_index\n",
    "\n",
    "        # Update internal states\n",
    "        e_h, e_c = h, c\n",
    "\n",
    "    return decoded_sentence"
   ]
  },
  {
   "cell_type": "code",
   "execution_count": null,
   "metadata": {},
   "outputs": [],
   "source": []
  },
  {
   "cell_type": "code",
   "execution_count": 47,
   "metadata": {},
   "outputs": [],
   "source": [
    "def seq2summary(input_seq):\n",
    "    newString=''\n",
    "    for i in input_seq:\n",
    "        if((i!=0 and i!=target_word_index['sostok']) and i!=target_word_index['eostok']):\n",
    "            newString=newString+reverse_target_word_index[i]+' '\n",
    "    return newString\n",
    "\n",
    "def seq2text(input_seq):\n",
    "    newString=''\n",
    "    for i in input_seq:\n",
    "        if(i!=0):\n",
    "            newString=newString+reverse_source_word_index[i]+' '\n",
    "    return newString"
   ]
  },
  {
   "cell_type": "code",
   "execution_count": 48,
   "metadata": {},
   "outputs": [
    {
     "data": {
      "text/plain": [
       "array([[ 299,  576, 1490, ...,    0,    0,    0],\n",
       "       [  62,    1,  639, ...,    0,    0,    0],\n",
       "       [   9,   12,  237, ...,    0,    0,    0],\n",
       "       ...,\n",
       "       [   3,  282,  236, ...,    0,    0,    0],\n",
       "       [  68,  160,  412, ...,    0,    0,    0],\n",
       "       [5248,   24,  122, ...,    0,    0,    0]], dtype=int32)"
      ]
     },
     "execution_count": 48,
     "metadata": {},
     "output_type": "execute_result"
    }
   ],
   "source": [
    "x_tr"
   ]
  },
  {
   "cell_type": "code",
   "execution_count": 51,
   "metadata": {},
   "outputs": [
    {
     "name": "stdout",
     "output_type": "stream",
     "text": [
      "Review: gave caffeine shakes heart anxiety attack plus tastes unbelievably bad stick coffee tea soda thanks \n",
      "Original summary: hour \n",
      "Predicted summary:  great\n",
      "\n",
      "\n",
      "Review: got great course good belgian chocolates better \n",
      "Original summary: would like to give it stars but \n",
      "Predicted summary:  great taste\n",
      "\n",
      "\n",
      "Review: one best flavored coffees tried usually like flavored coffees one great serve company love \n",
      "Original summary: delicious \n",
      "Predicted summary:  great coffee\n",
      "\n",
      "\n",
      "Review: salt separate area pain makes hard regulate salt putting like salt go ahead get product \n",
      "Original summary: tastes ok packaging \n",
      "Predicted summary:  good coffee\n",
      "\n",
      "\n",
      "Review: really like product super easy order online delivered much cheaper buying gas station stocking good long drives \n",
      "Original summary: turkey jerky is great \n",
      "Predicted summary:  good\n",
      "\n",
      "\n",
      "Review: best salad dressing delivered promptly quantities last vidalia onion dressing compares made oak hill farms sometimes find costco order front door want even orders cut shipping costs \n",
      "Original summary: my favorite salad dressing \n",
      "Predicted summary:  not bad\n",
      "\n",
      "\n",
      "Review: think sitting around warehouse long time took long time send got tea tasted like cardboard red rasberry leaf tea know supposed taste like \n",
      "Original summary: stale \n",
      "Predicted summary:  best gluten free pasta\n",
      "\n",
      "\n",
      "Review: year old cat special diet digestive problems also diabetes stopped eating usual special formula food tried different kinds catfood one liked easy digestion diabetes thank newman \n",
      "Original summary: wonderful \n",
      "Predicted summary:  great gluten free\n",
      "\n",
      "\n",
      "Review: always perfect snack dog loves knows exactly starts ask time evening gets greenie snack thank excellent product fast delivery \n",
      "Original summary: greenies buddy treat \n",
      "Predicted summary:  great\n",
      "\n",
      "\n",
      "Review: dog loves tiny treats keep one car one house \n",
      "Original summary: dog loves them \n",
      "Predicted summary:  good\n",
      "\n",
      "\n",
      "Review: liked coffee much subscribing dark rich smooth \n",
      "Original summary: makes great cup of java \n",
      "Predicted summary:  great\n",
      "\n",
      "\n",
      "Review: far dog tried chicken peanut butter flavor absolutely loves love natural makes happy giving dog something healthy treats small soft big plus calories \n",
      "Original summary: love zuke mini naturals \n",
      "Predicted summary:  great\n",
      "\n",
      "\n",
      "Review: absolutely delicious satisfy something sweet really filling great early morning time make breakfast great afternoon snack work feeling sluggish \n",
      "Original summary: protein bar \n",
      "Predicted summary:  great coffee\n",
      "\n",
      "\n",
      "Review: aware decaf coffee although showed search decaf cups intended purchase gift kept recipient drink caffeine favorite means \n",
      "Original summary: not decaf \n",
      "Predicted summary:  not as good as\n",
      "\n",
      "\n",
      "Review: wonderful wrote perfect iced cookie one pen writing cookies names happy ca \n",
      "Original summary: cookie \n",
      "Predicted summary:  great coffee\n",
      "\n",
      "\n",
      "Review: truffle oil quite good prefer brand france urbani italy expensive oh delicious tried black white good black bit stronger pungent event healthy alternative butter enjoy \n",
      "Original summary: delicious but not the best \n",
      "Predicted summary:  not as good as\n",
      "\n",
      "\n",
      "Review: enjoy coffee office split right middle loving think worth try order regularly \n",
      "Original summary: hit or miss \n",
      "Predicted summary:  great\n",
      "\n",
      "\n",
      "Review: husband gluten free food several years tried several different bread mixes first actually enjoys buying amazon saves loaf \n",
      "Original summary: really good gluten free bread \n",
      "Predicted summary:  good\n",
      "\n",
      "\n",
      "Review: hubby eats says good snacks morning done apple flavor \n",
      "Original summary: really good nice snack \n",
      "Predicted summary:  good\n",
      "\n",
      "\n",
      "Review: waste money disgusting product chocolate taste tastes like plastic lining paper carton using milk treated ultra high temperatures like fresh milk go get fresh milk hershey syrup want chocolate milk \n",
      "Original summary: please do not waste your money \n",
      "Predicted summary:  good\n",
      "\n",
      "\n",
      "Review: absolutely loves apple chicken happy hips looks forward one morning one night gets soooo excited would eat allowed \n",
      "Original summary: healthy treats \n",
      "Predicted summary:  great\n",
      "\n",
      "\n",
      "Review: strong much flavor little aroma tried purchase another time similiar brands met standards expected \n",
      "Original summary: no flavor \n",
      "Predicted summary:  best\n",
      "\n",
      "\n",
      "Review: company wanted chose order anyway \n",
      "Original summary: water \n",
      "Predicted summary:  great coffee\n",
      "\n",
      "\n",
      "Review: introduced number people hooked best sour gummy ever great flavors got great price \n",
      "Original summary: new favorite \n",
      "Predicted summary:  great chips\n",
      "\n",
      "\n",
      "Review: new price attractive however tastes horrible maybe old zico coconut water brands might find acceptable \n",
      "Original summary: do not be by the price \n",
      "Predicted summary:  great tea\n",
      "\n",
      "\n",
      "Review: sure ever going buy product way expensive market price \n",
      "Original summary: too expensive \n",
      "Predicted summary:  good tea\n",
      "\n",
      "\n",
      "Review: flavor normally find local stores plus buy bulk things take savings add veggies even stir egg noodles cook add nutrition quick meals lot extra \n",
      "Original summary: good value \n",
      "Predicted summary:  dog\n",
      "\n",
      "\n",
      "Review: order tea labeled decaff must caffeine residue levels tested tea caffeine decaff non decaff tea anywhere caffeine caffeine caffeinated tea caffeine slightly less naturally present tea leaf \n",
      "Original summary: caffeine is not \n",
      "Predicted summary:  great product\n",
      "\n",
      "\n",
      "Review: excellent babies toddler really best offer little one delicious rich vitamins calcium protein low fat sorry products available website \n",
      "Original summary: excellent product for babies and toddler \n",
      "Predicted summary:  great tea\n",
      "\n",
      "\n",
      "Review: purchased item dented would bet run dented product clearing ship ones \n",
      "Original summary: sometimes dented \n",
      "Predicted summary:  best\n",
      "\n",
      "\n",
      "Review: almost tastes like mini blueberry pie love one favorite thoroughly fallen love \n",
      "Original summary: excellent love the blueberry pecan \n",
      "Predicted summary:  great coffee\n",
      "\n",
      "\n",
      "Review: dog loves keeps busy minutes long time chew hound \n",
      "Original summary: chew away \n",
      "Predicted summary:  not as advertised\n",
      "\n",
      "\n",
      "Review: plant came quickly looks great office nice pot plant thriving well \n",
      "Original summary: very nice office plant \n",
      "Predicted summary:  great\n",
      "\n",
      "\n",
      "Review: dog loves lickety stik bacon flavor since likes much plan getting flavors great liquid treat dog highly recommend lickety stik \n",
      "Original summary: great dog treat \n",
      "Predicted summary:  great\n",
      "\n",
      "\n",
      "Review: great toy dogs chew everything else little literally eats toys one toys yet destroy loves carries around everywhere got rex cutest thing \n",
      "Original summary: good for chewers \n",
      "Predicted summary:  great tea\n",
      "\n",
      "\n",
      "Review: really search good deals tea tea great price tea amazon almost cup price cup coffee herbal varieties low caffine good option wife used dinner coffe \n",
      "Original summary: great price for great tea \n",
      "Predicted summary:  best\n",
      "\n",
      "\n",
      "Review: pricey essentially small bag hard crumbs maybe dog spoiled treats like third class treats definitely bottom doggie treat often simply walk away glad people like buying \n",
      "Original summary: waste of money \n",
      "Predicted summary:  great\n",
      "\n",
      "\n",
      "Review: little pricey consider sugar low cal caffine really rich flavor best chai ever found \n",
      "Original summary: fabulous product \n",
      "Predicted summary:  great for the\n",
      "\n",
      "\n",
      "Review: loves taste beef freeze dried dog treats use training really works \n",
      "Original summary: dog lover \n",
      "Predicted summary:  great\n",
      "\n",
      "\n",
      "Review: three dogs cairn terriers year old border collie proud greenies like taste helps keep gums teeth good shape \n",
      "Original summary: our dogs love greenies \n",
      "Predicted summary:  not as good as\n",
      "\n",
      "\n",
      "Review: good soft drink smooth strawberry cream soda tasty \n",
      "Original summary: good stuff \n",
      "Predicted summary:  great coffee\n",
      "\n",
      "\n",
      "Review: item arrived sugar free shipped regular version caramel syrup small internal sticker bottle stated sugar free although company label bottle stated regular version \n",
      "Original summary: wrong item \n",
      "Predicted summary:  not good\n",
      "\n",
      "\n",
      "Review: like strong coffee coffee rated found weak sickening taste \n",
      "Original summary: disapointed \n",
      "Predicted summary:  great\n",
      "\n",
      "\n",
      "Review: saw peanut butter chocolate cereal knew try pleased eat chocolate breakfast feel guilty two kids love cereal well great eat alone favorite milk product yogurt mix homemade granola well \n",
      "Original summary: the yummy \n",
      "Predicted summary:  great\n",
      "\n",
      "\n",
      "Review: begging time loves used buy small bottle buying every weeks since saw oz buying last lot longer gas money cheaper buy online \n",
      "Original summary: my dog loves it \n"
     ]
    },
    {
     "name": "stdout",
     "output_type": "stream",
     "text": [
      "Predicted summary:  great coffee\n",
      "\n",
      "\n",
      "Review: true also need decent scale tried caviar recipe everything worked perfectly first try fun easy make kit comes large enough samples looks like good uses \n",
      "Original summary: great to \n",
      "Predicted summary:  great tea\n",
      "\n",
      "\n",
      "Review: dog really likes treats like buy run mill treats loaded fat fillers continue buy \n",
      "Original summary: buddy biscuits \n",
      "Predicted summary:  not for\n",
      "\n",
      "\n",
      "Review: tulsi green tea great good iced tea well \n",
      "Original summary: green tea \n",
      "Predicted summary:  good\n",
      "\n",
      "\n",
      "Review: always put something market couple poof gone best tasting product pepsi \n",
      "Original summary: best taste \n",
      "Predicted summary:  best coffee\n",
      "\n",
      "\n",
      "Review: like tomatoes fresh flavorful also come carton welcome alternative metal cans impart flavor sometimes lined plastic containing \n",
      "Original summary: yummy tomatoes good packaging \n",
      "Predicted summary:  good\n",
      "\n",
      "\n",
      "Review: great get habit forming careful bought whole case save overall versus going supermarket rich dark chocolate crisp cookie worth every penny oreo eat heart \n",
      "Original summary: delicious \n",
      "Predicted summary:  great for\n",
      "\n",
      "\n",
      "Review: else say arrived promptly perhaps time expected expiration date like next day good go \n",
      "Original summary: baby loves it \n",
      "Predicted summary:  great\n",
      "\n",
      "\n",
      "Review: bought local recently advertised cheesy flavor detectable product even salt flavor avoid product \n",
      "Original summary: no cheese flavor \n",
      "Predicted summary:  not so good\n",
      "\n",
      "\n",
      "Review: big volume coffee morning one great \n",
      "Original summary: great morning coffee \n",
      "Predicted summary:  great coffee\n",
      "\n",
      "\n",
      "Review: drank try keep awake fell asleep minutes drinking feel anything \n",
      "Original summary: it made me fall \n",
      "Predicted summary:  good taste\n",
      "\n",
      "\n",
      "Review: drink cups day verona italian french roast coffee wanted try lower acid version brand coffee smells tastes like vinegar totally unpalatable better drinking water acid coffee bothers \n",
      "Original summary: single worst coffee ever \n",
      "Predicted summary:  great coffee\n",
      "\n",
      "\n",
      "Review: getting price however afraid stocking anymore reduced price think one trying eat crackers low calorie string cheese breakfast every total calories put breakfast baggie go \n",
      "Original summary: am addicted to these \n",
      "Predicted summary:  great\n",
      "\n",
      "\n",
      "Review: first time using fondarific fondant general one really easy use baby shower cake worked indicated also colored made two tier cake final product looked great greasy \n",
      "Original summary: easy to use \n",
      "Predicted summary:  best\n",
      "\n",
      "\n",
      "Review: work home drink cups cup coffee day good tasting coffee lowest price cup market \n",
      "Original summary: great coffee great price \n",
      "Predicted summary:  great\n",
      "\n",
      "\n",
      "Review: guys say natural really tastes great pleasantly surprised stand flavor carbonated think would even better product time come fed sweet juices aftertaste make obvious really natural switch really gets vote \n",
      "Original summary: great taste all natural \n",
      "Predicted summary:  delicious\n",
      "\n",
      "\n",
      "Review: product good goes long way quite good one dd good product less \n",
      "Original summary: very good \n",
      "Predicted summary:  great\n",
      "\n",
      "\n",
      "Review: tea wonderful soothing even soothing get shipped house found hard find decaffeinated tea grocery store much easier \n",
      "Original summary: decaffeinated french vanilla tea yummy \n",
      "Predicted summary:  good\n",
      "\n",
      "\n",
      "Review: wow little calorie espresso sugar serve cold delicious little shot espresso sugar overly sweet sugar helps offset taste espresso caffe bitter sweet tastes good really gave afternoon kick pants \n",
      "Original summary: nice little pick me up \n",
      "Predicted summary:  yummy\n",
      "\n",
      "\n",
      "Review: mayonnaise delicious side side taste test would give hellman edge hellman richer taste \n",
      "Original summary: excellent but \n",
      "Predicted summary:  great\n",
      "\n",
      "\n",
      "Review: love medium full flavored roast smooth taste bitter acidic taste excellent coffee good value also try timothy kona good also \n",
      "Original summary: wonderful coffee \n",
      "Predicted summary:  great coffee\n",
      "\n",
      "\n",
      "Review: nice item chunks meat good gravy cat fond varieties nice little treat nonetheless think item bit pricy per ounce \n",
      "Original summary: nice but pricey \n",
      "Predicted summary:  not so good\n",
      "\n",
      "\n",
      "Review: bought cookies gifts open last long good make great gifts would definitely buy \n",
      "Original summary: mouth watery cookies \n",
      "Predicted summary:  great tea\n",
      "\n",
      "\n",
      "Review: great price fast shipping best chips better ingredients less calories snack foods plus taste like real chips \n",
      "Original summary: pop chips are the best \n",
      "Predicted summary:  great\n",
      "\n",
      "\n",
      "Review: taco bell chipotle sauce bold flavorful tried chicken wings tacos salad made dish extremely tasty glad sampled new sauce staple condiment \n",
      "Original summary: bold flavor \n",
      "Predicted summary:  great coffee\n",
      "\n",
      "\n",
      "Review: bought seeds make centerpieces really surprised fast grow planted seeds potting soil without ny preparation anything kept watering days super tall ready displayed centerpieces perfect \n",
      "Original summary: perfect for in days \n",
      "Predicted summary:  great coffee\n",
      "\n",
      "\n",
      "Review: every time need sun dried tomatoes local grocery stores conveniently small pouches ensure always hand called recipe \n",
      "Original summary: sun dried tomato bliss \n",
      "Predicted summary:  cats like it\n",
      "\n",
      "\n",
      "Review: love soup eat plain use recipe cannot find area glad amazon \n",
      "Original summary: soup chicken cheese \n",
      "Predicted summary:  great\n",
      "\n",
      "\n",
      "Review: size quite good dog training smell strong cannot put open bag must seal everytime gave treat otherwise dog stand trying fetch believe taste great puppy purchase sure \n",
      "Original summary: strong smell and my puppy loves it \n",
      "Predicted summary:  great\n",
      "\n",
      "\n",
      "Review: love chips auto order every months taste great whole bag calories bag every day sure helped weight loss little bags eat huge amount \n",
      "Original summary: great purchase \n",
      "Predicted summary:  great taste\n",
      "\n",
      "\n",
      "Review: many kit wines cost three four times made many kits find fine table wine recommend adding water five gallon mark flavor \n",
      "Original summary: good wine \n",
      "Predicted summary:  great\n",
      "\n",
      "\n",
      "Review: sooo much pepper heavy salt reminds adams trick food cannot eat seriously fresh nuts seasoned \n",
      "Original summary: over the top seasoning \n",
      "Predicted summary:  great\n",
      "\n",
      "\n",
      "Review: loved brand best vanilla flavor others tried would buy better price \n",
      "Original summary: wolfgang puck coffee vanilla \n",
      "Predicted summary:  great\n",
      "\n",
      "\n",
      "Review: another brand cinammon carried amazon much better tasting brand maybe packaging part problem simple plastic bag tie amazon brand comes carefully set plastic box \n",
      "Original summary: edible have had much better \n",
      "Predicted summary:  best\n",
      "\n",
      "\n",
      "Review: throw pack one actually taste bad especially compared orange tangerine like carbonation adds juice flavors need work switch drinks best worst watermelon strawberry kiwi berry black cherry orange tangerine \n",
      "Original summary: my favorite of the four tried \n",
      "Predicted summary:  not too sweet\n",
      "\n",
      "\n",
      "Review: daughter drinking since months old months old still loves snack time healthy delicious great addition menu \n",
      "Original summary: great snack \n",
      "Predicted summary:  not so good\n",
      "\n",
      "\n",
      "Review: live guinea africa order products delivered boat every months sometimes disappointed time zero calories zero carbs taste great price zero delivery costs prime ordered different flavors one favorite love \n",
      "Original summary: love it \n",
      "Predicted summary:  too salty\n",
      "\n",
      "\n",
      "Review: purchased larger size love size perfect keep purse snack especially times others dessert snack cannot eat must gluten free spouse touch diet food loves \n",
      "Original summary: cannot get enough \n",
      "Predicted summary:  great salt\n",
      "\n",
      "\n",
      "Review: always house drink favorite mix sprite oh good every day mind larger bottles use much bring \n",
      "Original summary: am an adult still love this \n",
      "Predicted summary:  best\n",
      "\n",
      "\n",
      "Review: ginger snaps overpowering ginger go great milk really enjoyed house great buy affordable compared alternative diet foods last least week store well \n",
      "Original summary: you can eat ginger again \n",
      "Predicted summary:  best\n",
      "\n",
      "\n",
      "Review: give squid one star use might thoroughly disappointed quite possibly call crazy \n",
      "Original summary: can for your \n",
      "Predicted summary:  good\n",
      "\n",
      "\n",
      "Review: quality seeds excellent begin germinate hours days ready use never sprouted seeds results good easily recommend sprouter whether human consumption four legged friends \n",
      "Original summary: wheat grass seeds \n",
      "Predicted summary:  great for training\n",
      "\n",
      "\n",
      "Review: love stuff great store bought homemade baked goods kicking things professional level works colored dark light frosting also used dusting powdered sugar pretty fine texture \n",
      "Original summary: fun like dust \n"
     ]
    },
    {
     "name": "stdout",
     "output_type": "stream",
     "text": [
      "Predicted summary:  great\n",
      "\n",
      "\n",
      "Review: bought jumbo greenies black lab loved way expensive regular use notice difference breath primary reason buying \n",
      "Original summary: jumbo greenies good but very expensive \n",
      "Predicted summary:  great tea\n",
      "\n",
      "\n",
      "Review: also bought costco per box included bags oz kids fighting remaining bags good buying due price high price prevent product reaching mass distribution \n",
      "Original summary: very good but too pricey \n",
      "Predicted summary:  great\n",
      "\n",
      "\n",
      "Review: originally found mints whole foods taste superb get lot money plus comes cute little tin uses dog loves go organic \n",
      "Original summary: wonderful \n",
      "Predicted summary:  great\n",
      "\n",
      "\n",
      "Review: regular spam awful almost inedible would give tastes like animal know mean fellow spam turkey spam pretty good great would give worth try \n",
      "Original summary: better than regular \n",
      "Predicted summary:  great\n",
      "\n",
      "\n",
      "Review: really need know many cans also whitefish tuna buffet canned cat food thanks \n",
      "Original summary: need to know how many in case \n",
      "Predicted summary:  great\n",
      "\n",
      "\n",
      "Review: great tasting rich flavor perfect making nice hot cup mocha bought test hershey syrup mocha incredible distinct taste difference noticeable much richer tastes like chocolate less sugary hershey syrup \n",
      "Original summary: great taste \n",
      "Predicted summary:  good\n",
      "\n",
      "\n",
      "Review: number one japan number one great save get shipped automatically every month lugging car \n",
      "Original summary: great tea \n",
      "Predicted summary:  great chips\n",
      "\n",
      "\n",
      "Review: bought item read best mayo sold yes even better worlds favorite hellman well review good bit better hellman fact put empty hellman jar said nothing family never knew difference \n",
      "Original summary: blue mayo \n",
      "Predicted summary:  great coffee\n",
      "\n",
      "\n",
      "Review: gum great makes car smell good leave refreshing sweet tart smooth \n",
      "Original summary: love the gum and the price \n",
      "Predicted summary:  great\n",
      "\n",
      "\n",
      "Review: flavorful smells like heaven great price compared stores arrived fast \n",
      "Original summary: divine \n",
      "Predicted summary:  great\n",
      "\n",
      "\n",
      "Review: love low calorie organic doctors recommend grams fiber daily smart bran grams per serving fruits veggies set day eat dry vanilla frozen yogurt cinnamon \n",
      "Original summary: yes to smart bran \n",
      "Predicted summary:  great\n",
      "\n",
      "\n",
      "Review: found spice blend dallas years back tell restaurant using grilled shrimp like cajun spice grilling fish recommend store dry place replace every year least lose flavor \n",
      "Original summary: good stuff \n",
      "Predicted summary:  great\n",
      "\n",
      "\n",
      "Review: plain riceselect couscous delicious easy quick prepare great side item base main course far found bad product riceselect \n",
      "Original summary: yummy \n",
      "Predicted summary:  great\n",
      "\n",
      "\n"
     ]
    }
   ],
   "source": [
    "for i in range(0,100):\n",
    "    print(\"Review:\",seq2text(x_tr[i]))\n",
    "    print(\"Original summary:\",seq2summary(y_tr[i]))\n",
    "    print(\"Predicted summary:\",decode_sequence(x_val[i].reshape(1,max_text_len)))\n",
    "    print(\"\\n\")"
   ]
  },
  {
   "cell_type": "code",
   "execution_count": 287,
   "metadata": {},
   "outputs": [],
   "source": [
    "def text_cleaner1(text = 'enjoy coffee office split right middle loving think worth try order regularly '):\n",
    "    newString = text.lower()\n",
    "    newString = BeautifulSoup(newString, \"lxml\").text\n",
    "    newString = re.sub(r'\\([^)]*\\)', '', newString)\n",
    "    newString = re.sub('\"','', newString)\n",
    "    newString = ' '.join([contraction_mapping[t] if t in contraction_mapping else t for t in newString.split(\" \")])    \n",
    "    newString = re.sub(r\"'s\\b\",\"\",newString)\n",
    "    newString = re.sub(\"[^a-zA-Z]\", \" \", newString) \n",
    "    newString = re.sub('[m]{2,}', 'mm', newString)\n",
    "    tokens = [w for w in newString.split() if not w in stop_words]\n",
    "    long_words=[]\n",
    "    for i in tokens:\n",
    "        if len(i)>1:                                                 #removing short word\n",
    "            long_words.append(i)   \n",
    "    return [(\" \".join(long_words)).strip()]"
   ]
  },
  {
   "cell_type": "code",
   "execution_count": 325,
   "metadata": {},
   "outputs": [],
   "source": [
    "valid = 'enjoy coffee office split right middle loving think worth try order regularly '"
   ]
  },
  {
   "cell_type": "code",
   "execution_count": 326,
   "metadata": {},
   "outputs": [
    {
     "data": {
      "text/plain": [
       "['enjoy coffee office split right middle loving think worth try order regularly']"
      ]
     },
     "execution_count": 326,
     "metadata": {},
     "output_type": "execute_result"
    }
   ],
   "source": [
    "valid = text_cleaner1(valid)\n",
    "valid"
   ]
  },
  {
   "cell_type": "code",
   "execution_count": 272,
   "metadata": {},
   "outputs": [],
   "source": [
    "def listi(valid):\n",
    "    return [valid]\n",
    "k= listi(valid)"
   ]
  },
  {
   "cell_type": "code",
   "execution_count": 327,
   "metadata": {},
   "outputs": [
    {
     "data": {
      "text/plain": [
       "array([[  99,    7,  706, 1924,   80, 1236, 1847,   83,  127,   34,   35,\n",
       "        1195,    0,    0,    0,    0,    0,    0,    0,    0,    0,    0,\n",
       "           0,    0,    0,    0,    0,    0,    0,    0]], dtype=int32)"
      ]
     },
     "execution_count": 327,
     "metadata": {},
     "output_type": "execute_result"
    }
   ],
   "source": [
    "valid = tokenize_text(valid)\n",
    "valid"
   ]
  },
  {
   "cell_type": "code",
   "execution_count": 295,
   "metadata": {},
   "outputs": [
    {
     "name": "stdout",
     "output_type": "stream",
     "text": [
      "[[99, 7, 706, 1924, 80, 1236, 1847, 83, 127, 34, 35, 1195]]\n"
     ]
    },
    {
     "data": {
      "text/plain": [
       "array([[  99,    7,  706, 1924,   80, 1236, 1847,   83,  127,   34,   35,\n",
       "        1195,    0,    0,    0,    0,    0,    0,    0,    0,    0,    0,\n",
       "           0,    0,    0,    0,    0,    0,    0,    0]], dtype=int32)"
      ]
     },
     "execution_count": 295,
     "metadata": {},
     "output_type": "execute_result"
    }
   ],
   "source": [
    "valid = x_tokenizer.texts_to_sequences(k)\n",
    "print(valid)\n",
    "valid = pad_sequences(valid, maxlen=max_text_len, padding='post')\n",
    "valid"
   ]
  },
  {
   "cell_type": "code",
   "execution_count": 328,
   "metadata": {},
   "outputs": [
    {
     "data": {
      "text/plain": [
       "' good coffee'"
      ]
     },
     "execution_count": 328,
     "metadata": {},
     "output_type": "execute_result"
    }
   ],
   "source": [
    "decode_sequence(valid)"
   ]
  },
  {
   "cell_type": "code",
   "execution_count": 297,
   "metadata": {},
   "outputs": [
    {
     "name": "stdout",
     "output_type": "stream",
     "text": [
      "INFO:tensorflow:Assets written to: final/assets\n"
     ]
    }
   ],
   "source": [
    "model.save(\"final\")"
   ]
  },
  {
   "cell_type": "code",
   "execution_count": 298,
   "metadata": {},
   "outputs": [],
   "source": [
    "with open('final/tokenizer.pkl', 'wb') as output:\n",
    "    pickle.dump(x_tokenizer, output, pickle.HIGHEST_PROTOCOL)"
   ]
  },
  {
   "cell_type": "code",
   "execution_count": 299,
   "metadata": {},
   "outputs": [],
   "source": [
    "with open('final/cleaner.pkl', 'wb') as output:\n",
    "    pickle.dump(text_cleaner1, output, pickle.HIGHEST_PROTOCOL)"
   ]
  },
  {
   "cell_type": "code",
   "execution_count": 300,
   "metadata": {},
   "outputs": [],
   "source": [
    "with open('final/pred_sequence.pkl', 'wb') as output:\n",
    "    pickle.dump(decode_sequence, output, pickle.HIGHEST_PROTOCOL)"
   ]
  },
  {
   "cell_type": "code",
   "execution_count": 302,
   "metadata": {},
   "outputs": [],
   "source": [
    "with open('final/tokenizer_main.pkl', 'wb') as output:\n",
    "    pickle.dump(tokenize_text, output, pickle.HIGHEST_PROTOCOL)"
   ]
  },
  {
   "cell_type": "code",
   "execution_count": 241,
   "metadata": {},
   "outputs": [],
   "source": [
    "my_model = tf.keras.models.load_model(\"final\")\n",
    "with open('final/tokenizer.pkl', 'rb') as input:\n",
    "    tokenizer = pickle.load(input)"
   ]
  },
  {
   "cell_type": "code",
   "execution_count": 303,
   "metadata": {},
   "outputs": [],
   "source": [
    "with open('final/tokenizer_main.pkl', 'rb') as input:\n",
    "    tokenizer_main = pickle.load(input)"
   ]
  },
  {
   "cell_type": "code",
   "execution_count": 304,
   "metadata": {},
   "outputs": [],
   "source": [
    "with open('final/cleaner.pkl', 'rb') as input:\n",
    "    cleaner = pickle.load(input)"
   ]
  },
  {
   "cell_type": "code",
   "execution_count": 305,
   "metadata": {},
   "outputs": [],
   "source": [
    "with open('final/pred_sequence.pkl', 'rb') as input:\n",
    "    prediction= pickle.load(input)"
   ]
  },
  {
   "cell_type": "code",
   "execution_count": 248,
   "metadata": {},
   "outputs": [
    {
     "data": {
      "text/plain": [
       "<keras_preprocessing.text.Tokenizer at 0x7fdd10d17c90>"
      ]
     },
     "execution_count": 248,
     "metadata": {},
     "output_type": "execute_result"
    }
   ],
   "source": [
    "tokenizer"
   ]
  },
  {
   "cell_type": "code",
   "execution_count": 308,
   "metadata": {},
   "outputs": [
    {
     "name": "stdout",
     "output_type": "stream",
     "text": [
      "['know someone know fancies call find pobox ls hb']\n",
      "[[ 96 614  96 913  19   0   0   0   0   0   0   0   0   0   0   0   0   0\n",
      "    0   0   0   0   0   0   0   0   0   0   0   0]]\n"
     ]
    },
    {
     "data": {
      "text/plain": [
       "' best'"
      ]
     },
     "execution_count": 308,
     "metadata": {},
     "output_type": "execute_result"
    }
   ],
   "source": [
    "sms = \"We know someone who you know that fancies you. Call 09058097218 to find out who. POBox 6, LS15HB \"\n",
    "sms_proc = cleaner(sms)\n",
    "print(sms_proc)\n",
    "sms_proc = tokenizer_main(sms_proc)\n",
    "print(sms_proc)\n",
    "sms_proc = prediction(sms_proc)\n",
    "sms_proc"
   ]
  },
  {
   "cell_type": "code",
   "execution_count": null,
   "metadata": {},
   "outputs": [],
   "source": []
  },
  {
   "cell_type": "code",
   "execution_count": null,
   "metadata": {},
   "outputs": [],
   "source": []
  },
  {
   "cell_type": "code",
   "execution_count": 197,
   "metadata": {},
   "outputs": [],
   "source": []
  },
  {
   "cell_type": "code",
   "execution_count": 226,
   "metadata": {},
   "outputs": [
    {
     "data": {
      "text/plain": [
       "['final.pkl']"
      ]
     },
     "execution_count": 226,
     "metadata": {},
     "output_type": "execute_result"
    }
   ],
   "source": []
  },
  {
   "cell_type": "code",
   "execution_count": 223,
   "metadata": {},
   "outputs": [],
   "source": []
  },
  {
   "cell_type": "code",
   "execution_count": null,
   "metadata": {},
   "outputs": [],
   "source": []
  }
 ],
 "metadata": {
  "kernelspec": {
   "display_name": "Python 3",
   "language": "python",
   "name": "python3"
  },
  "language_info": {
   "codemirror_mode": {
    "name": "ipython",
    "version": 3
   },
   "file_extension": ".py",
   "mimetype": "text/x-python",
   "name": "python",
   "nbconvert_exporter": "python",
   "pygments_lexer": "ipython3",
   "version": "3.7.10"
  }
 },
 "nbformat": 4,
 "nbformat_minor": 2
}
